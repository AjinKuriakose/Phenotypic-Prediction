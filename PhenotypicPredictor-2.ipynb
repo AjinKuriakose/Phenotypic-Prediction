{
 "cells": [
  {
   "cell_type": "code",
   "execution_count": 1,
   "metadata": {
    "collapsed": true
   },
   "outputs": [],
   "source": [
    "import _pickle as cPickle\n",
    "import pickle\n",
    "import pandas as pd\n",
    "import os\n",
    "import random\n",
    "from scipy.spatial.distance import cdist\n",
    "from sklearn.decomposition import PCA as sklearnPCA\n",
    "import matplotlib.pyplot as plt\n",
    "from sklearn.cluster import KMeans\n",
    "from sklearn.manifold import MDS\n",
    "from sklearn import cluster as Kcluster, metrics as Met ,preprocessing as preprocessing\n",
    "import numpy as np\n",
    "import pylab as pl\n",
    "from sklearn.metrics import roc_curve, auc\n",
    "import matplotlib.pyplot as plt\n",
    "from sklearn.ensemble import ExtraTreesClassifier\n",
    "from sklearn.metrics import classification_report,confusion_matrix\n",
    "from sklearn.model_selection import KFold\n",
    "from sklearn.linear_model import LogisticRegression\n",
    "from sklearn.ensemble import RandomForestClassifier\n",
    "from sklearn.neural_network import MLPClassifier\n",
    "from sklearn.preprocessing import StandardScaler\n",
    "import argparse\n",
    "# from tabulate import tabulate"
   ]
  },
  {
   "cell_type": "markdown",
   "metadata": {},
   "source": [
    "## Read the data, flatten and shuffle the data and labels"
   ]
  },
  {
   "cell_type": "code",
   "execution_count": 2,
   "metadata": {
    "collapsed": true
   },
   "outputs": [],
   "source": [
    "def load_data(data_path,label_path):\n",
    "    global sample_set\n",
    "    global sample_data\n",
    "    # Get the sample identifier(accession). Optionally equally subsample from each class label\n",
    "    sample_set = pd.read_csv(label_path, sep=',', error_bad_lines=False)\n",
    "    sample_set['combined']=sample_set['population']+sample_set['sequencing_center'].astype(str)\n",
    "    #Equally Subsample from each of the classses\n",
    "    # for lab in labels:\n",
    "    #     SAMPLES_FILETERED = SAMPLES[SAMPLES.label == lab].sample(n=50)\n",
    "    #     sample_set =sample_set.append(SAMPLES_FILETERED,ignore_index=False)\n",
    "    sample_set_id = sample_set['accession']\n",
    "    sample_data = pd.DataFrame()\n",
    "    root = data_path\n",
    "    for sampleid in sample_set_id:\n",
    "        try:\n",
    "            #ambig_info_df = pd.read_csv(root+\"\\\\\"+sampleid+ '\\\\bias\\\\aux_info\\\\ambig_info.tsv',sep='\\t',error_bad_lines=False)\n",
    "            quantified_data = pd.read_csv(root+\"//\"+sampleid+\"//bias//quant2.sf\",sep='\\t',error_bad_lines=False)\n",
    "            #quantified_data = pd.DataFrame(pd.concat([quantified_data, ambig_info_df], axis=1).set_index('Name').stack()).transpose()\n",
    "            quantified_data = pd.DataFrame(quantified_data.set_index('Name').stack()).transpose()\n",
    "            sample_data = sample_data.append(quantified_data)\n",
    "        except KeyboardInterrupt:\n",
    "            break \n",
    "    #     sample_data.drop('Length', axis=1, level=1, inplace=True)\n",
    "    #     pickle.dump(sample_data, open(\"data_ambig_300.pkl\", 'wb'))\n",
    "    #Shuffle the data and the labels\n",
    "    shufflelist = list(range(sample_data.shape[0]))\n",
    "    random.shuffle(shufflelist)\n",
    "    sample_data=sample_data.iloc[shufflelist,:]\n",
    "    sample_set=sample_set.iloc[shufflelist,:]"
   ]
  },
  {
   "cell_type": "code",
   "execution_count": 3,
   "metadata": {
    "collapsed": true
   },
   "outputs": [],
   "source": [
    "class predictorROC:   \n",
    "    #Yreal is the real outcome value, Yscore is the caluclated value\n",
    "    #threshold is the threshold value to calculate the specificity and sensitivity  \n",
    "    def draw_roc(self, Yreal, Yscore):\n",
    "        fpr = []\n",
    "        tpr = []\n",
    "        roc_auc = []\n",
    "        fpr, tpr, _ = roc_curve(Yreal, Yscore)\n",
    "        roc_auc = auc(fpr, tpr)\n",
    "        plt.figure()\n",
    "        lw = 2\n",
    "        plt.plot(fpr, tpr, color='darkorange',\n",
    "                 lw=lw, label='ROC curve (area = %0.2f)' % roc_auc)\n",
    "        plt.plot([0, 1], [0, 1], color='navy', lw=lw, linestyle='--')\n",
    "        plt.xlim([0.0, 1.0])\n",
    "        plt.ylim([0.0, 1.05])\n",
    "        plt.xlabel('False Positive Rate')\n",
    "        plt.ylabel('True Positive Rate')\n",
    "        plt.title('Receiver operating characteristic example')\n",
    "        plt.legend(loc=\"lower right\")\n",
    "        plt.show()"
   ]
  },
  {
   "cell_type": "markdown",
   "metadata": {},
   "source": [
    "# Dimensionality Reduction Using PCA"
   ]
  },
  {
   "cell_type": "code",
   "execution_count": 4,
   "metadata": {
    "collapsed": true
   },
   "outputs": [],
   "source": [
    "def get_eigenvalues(data):\n",
    "    U, V, W = np.linalg.svd(data, full_matrices=False)\n",
    "    return U,V\n",
    "\n",
    "def perf_pca(data):\n",
    "    #U, V, W = np.linalg.svd(data, full_matrices=False)\n",
    "    #newV = [x for x in V if x >= 1]\n",
    "    # find the number of principal components.\n",
    "    # select the components with eigenvalue greater than 1.\n",
    "    #dim = len(newV)\n",
    "#     sk_pca = sklearnPCA(n_components=mle)\n",
    "    sk_pca = sklearnPCA()\n",
    "    pca = sk_pca.fit_transform(data)\n",
    "    return pca"
   ]
  },
  {
   "cell_type": "code",
   "execution_count": 5,
   "metadata": {
    "collapsed": true
   },
   "outputs": [],
   "source": [
    "def calc_pca():\n",
    "    #Unable to do normalization for large inputs due to memory issues.\n",
    "    # Normalize the data\n",
    "    # sample_norm_data = preprocessing.scale(np.array(sample_data))\n",
    "    # Compute the correlation matrix\n",
    "    # sample_corr_data = np.corrcoef(sample_norm_data, rowvar=False)\n",
    "    #pca_sample = perf_pca(sample_corr_data)\n",
    "    pca=perf_pca(sample_data)\n",
    "    # pca = pickle.load(open(\"pca_ambig_250.pkl\",'rb'))\n",
    "    pca.shape"
   ]
  },
  {
   "cell_type": "markdown",
   "metadata": {},
   "source": [
    "## Preprocessing and Classifier functions"
   ]
  },
  {
   "cell_type": "code",
   "execution_count": 6,
   "metadata": {
    "collapsed": true
   },
   "outputs": [],
   "source": [
    "def perf_logistic_regression(xtr, ytr,xtest):\n",
    "    logm = LogisticRegression()\n",
    "    logm.fit(xtr,ytr)\n",
    "    return logm.predict(xtest)"
   ]
  },
  {
   "cell_type": "code",
   "execution_count": 7,
   "metadata": {
    "collapsed": true
   },
   "outputs": [],
   "source": [
    "def perf_random_forest(xtr,ytr,xtest):\n",
    "    rf = RandomForestClassifier(n_estimators=250)\n",
    "    rf.fit(xtr, ytr)\n",
    "    return rf.predict(xtest)"
   ]
  },
  {
   "cell_type": "code",
   "execution_count": 8,
   "metadata": {
    "collapsed": true
   },
   "outputs": [],
   "source": [
    "def perf_neural_network(xtr,ytr,xtest):\n",
    "    clf = MLPClassifier(solver='lbfgs', alpha=1e-5,hidden_layer_sizes=(5, 2), random_state=1)\n",
    "    perf_preprocessing(xtr,xtest)\n",
    "    clf.fit(xtr,ytr)\n",
    "    return clf.predict(xtest)"
   ]
  },
  {
   "cell_type": "code",
   "execution_count": 9,
   "metadata": {
    "collapsed": true
   },
   "outputs": [],
   "source": [
    "def perf_preprocessing(xtr,xtest):\n",
    "    scaler = StandardScaler()\n",
    "    # Fit only to the training data\n",
    "    scaler.fit(xtr)\n",
    "    StandardScaler(copy=True, with_mean=True, with_std=True)\n",
    "    # Now apply the transformations to the data:\n",
    "    xtr = scaler.transform(xtr)\n",
    "    xtest = scaler.transform(xtest)\n",
    "    return xtr,xtest"
   ]
  },
  {
   "cell_type": "markdown",
   "metadata": {},
   "source": [
    "## Feature Selection using ExtraTreeClassifier"
   ]
  },
  {
   "cell_type": "code",
   "execution_count": 10,
   "metadata": {
    "collapsed": true
   },
   "outputs": [],
   "source": [
    "def perf_ftr_selection(data,label,plotDistr):\n",
    "    forest = ExtraTreesClassifier(n_estimators=250,\n",
    "                                  random_state=0)\n",
    "    forest.fit(data, label)\n",
    "    index = data.shape[1]\n",
    "    importances = forest.feature_importances_\n",
    "    std = np.std([tree.feature_importances_ for tree in forest.estimators_],\n",
    "                 axis=0)\n",
    "    indices = np.argsort(importances)[::-1]    \n",
    "    for f in range(data.shape[1]):\n",
    "#       print(\"%d. feature %d (%f)\" % (f + 1, indices[f], importances[indices[f]]))\n",
    "        if importances[indices[f]] == 0:\n",
    "            index = f-1\n",
    "            break\n",
    "    #Plot the feature importance distribution. This plot how many features are important among all the features        \n",
    "    if plotDistr:\n",
    "        pl.figure()\n",
    "        pl.title(\"Feature importances\")\n",
    "        for tree in forest.estimators_:\n",
    "            pl.plot(range(index+1000), tree.feature_importances_[indices[:index+1000]], \"r\")\n",
    "\n",
    "        pl.plot(range(index+1000), importances[indices[:index+1000]], \"b\")\n",
    "        pl.show()\n",
    "    \n",
    "    return indices[:index]"
   ]
  },
  {
   "cell_type": "markdown",
   "metadata": {},
   "source": [
    "## Perform Cross Validation "
   ]
  },
  {
   "cell_type": "code",
   "execution_count": 11,
   "metadata": {
    "collapsed": true
   },
   "outputs": [],
   "source": [
    "def perf_cross_validation(X,y,nfolds):\n",
    "    kf = KFold(n_splits = nfolds)\n",
    "    kf.get_n_splits(X)\n",
    "    for train_index, test_index in kf.split(X):\n",
    "        X_train, X_test = X.iloc[train_index,:], X.iloc[test_index,:]\n",
    "        y_train, y_test = y.iloc[train_index], y.iloc[test_index]\n",
    "        \n",
    "        #Select the best features for the current fold\n",
    "        ftr_indices = perf_ftr_selection(X_train,y_train,False)\n",
    "        train_data=X_train.iloc[:,ftr_indices]\n",
    "        test_data = X_test.iloc[:,ftr_indices]\n",
    "        \n",
    "        #Print the classification report for each fold\n",
    "        print (\"Train data shape\", train_data.shape , \"label shape\",y_train.shape, \"test shape\", test_data.shape)\n",
    "        predictions = perf_random_forest(train_data,y_train,test_data)\n",
    "        print (classification_report(y_test,predictions))"
   ]
  },
  {
   "cell_type": "code",
   "execution_count": 12,
   "metadata": {
    "collapsed": true
   },
   "outputs": [],
   "source": [
    "def prnt_cross_val_results():\n",
    "    label_type = ['population','sequencing_center','combined']\n",
    "    for label in label_type:\n",
    "        print (\"Performing cross validation for label : \" , label)\n",
    "        perf_cross_validation(sample_data,sample_set[label],3)"
   ]
  },
  {
   "cell_type": "markdown",
   "metadata": {},
   "source": [
    "## Create the model dump for each classifier"
   ]
  },
  {
   "cell_type": "code",
   "execution_count": 13,
   "metadata": {
    "collapsed": true
   },
   "outputs": [],
   "source": [
    "def create_model_dump():\n",
    "    label_type = ['population','sequencing_center','combined']\n",
    "    for label in label_type:\n",
    "        indices = perf_ftr_selection(sample_data,sample_set[label],True)\n",
    "        reduced_data= sample_data.iloc[:,indices]\n",
    "        rf = RandomForestClassifier(n_estimators=250)\n",
    "        rf.fit(reduced_data,sample_set[label])\n",
    "        pickle.dump((indices,rf), open(\"model_\"+label+\".pkl\", 'wb'))"
   ]
  },
  {
   "cell_type": "code",
   "execution_count": 14,
   "metadata": {
    "collapsed": true
   },
   "outputs": [],
   "source": [
    "#function to parse the input argument\n",
    "def arg_parser():\n",
    "    parser = argparse.ArgumentParser('PhenotypicPredictor.py',add_help = True)\n",
    "    parser.add_argument(\"-m\" , metavar = \"<Path to model dump>\")\n",
    "    parser.add_argument(\"-t\" , metavar = \"<Path to test sample>\")\n",
    "    parser.add_argument(\"-l\" , metavar = \"<Path to test label file>\")\n",
    "    args = parser.parse_args()\n",
    "    return args.m ,args.t, args.l"
   ]
  },
  {
   "cell_type": "code",
   "execution_count": 15,
   "metadata": {
    "collapsed": true
   },
   "outputs": [],
   "source": [
    "def main():\n",
    "    model_path, test_data_path, test_label_path = arg_parser()\n",
    "#     model_path, test_data_path, test_label_path = \"/Users/shilpageorge/Desktop/Fall'17/CB/\",\"/Users/shilpageorge/Desktop/Fall'17/CB/test\",\"/Users/shilpageorge/Desktop/Fall'17/CB/p1_train_pop_lab_test_label.csv\"\n",
    "    population_indices,model_population = pickle.load(open(model_path.rstrip(\"/\")+\"/model_population.pkl\",'rb'))\n",
    "    combined_indices,model_combined = pickle.load(open(model_path.rstrip(\"/\")+\"/model_combined.pkl\",'rb'))\n",
    "    seq_indices,model_seq = pickle.load(open(model_path.rstrip(\"/\")+\"/model_sequencing_center.pkl\",'rb'))\n",
    "    #call load_data. The data will be loaded to the global dataframe sample_data\n",
    "    #labels will be loaded to the global dataframe sample_set\n",
    "    load_data(test_data_path.rstrip(\"/\"),test_label_path.rstrip(\"/\"))\n",
    "    \n",
    "    #Compute the predictions using the model dump for each classifier\n",
    "    population_predictions = model_population.predict(sample_data.iloc[:,population_indices])\n",
    "    seq_predictions = model_seq.predict(sample_data.iloc[:,seq_indices])\n",
    "    combined_predictions = model_combined.predict(sample_data.iloc[:,combined_indices])\n",
    "    \n",
    "    \n",
    "    #Print the classification report for each classifier\n",
    "    print ( \"F1 Score and Accuracy for Classifier label - Population \\n\")\n",
    "    print (classification_report(sample_set['population'],population_predictions))\n",
    "    print ( \"F1 Score and Accuracy for Classifier label - Sequencing Centre \\n\")\n",
    "    print (classification_report(sample_set['sequencing_center'],seq_predictions))\n",
    "    print ( \"F1 Score and Accuracy for Classifier label - Joint \\n\")\n",
    "    print (classification_report(sample_set['combined'],combined_predictions))"
   ]
  },
  {
   "cell_type": "code",
   "execution_count": null,
   "metadata": {
    "collapsed": true
   },
   "outputs": [],
   "source": []
  },
  {
   "cell_type": "code",
   "execution_count": 16,
   "metadata": {},
   "outputs": [
    {
     "name": "stdout",
     "output_type": "stream",
     "text": [
      "Performing cross validation for label :  population\n",
      "Train data shape (246, 15990) label shape (246,) test shape (123, 15990)\n",
      "             precision    recall  f1-score   support\n",
      "\n",
      "        CEU       0.80      1.00      0.89        16\n",
      "        FIN       0.80      0.86      0.83        28\n",
      "        GBR       0.81      0.81      0.81        31\n",
      "        TSI       0.77      0.59      0.67        29\n",
      "        YRI       0.95      1.00      0.97        19\n",
      "\n",
      "avg / total       0.82      0.82      0.81       123\n",
      "\n",
      "Train data shape (246, 15841) label shape (246,) test shape (123, 15841)\n",
      "             precision    recall  f1-score   support\n",
      "\n",
      "        CEU       0.83      1.00      0.91        24\n",
      "        FIN       0.86      0.83      0.85        30\n",
      "        GBR       0.94      0.81      0.87        21\n",
      "        TSI       0.70      0.67      0.68        21\n",
      "        YRI       0.96      0.96      0.96        27\n",
      "\n",
      "avg / total       0.86      0.86      0.86       123\n",
      "\n",
      "Train data shape (246, 16079) label shape (246,) test shape (123, 16079)\n",
      "             precision    recall  f1-score   support\n",
      "\n",
      "        CEU       0.97      0.91      0.94        32\n",
      "        FIN       0.81      0.89      0.85        19\n",
      "        GBR       0.85      0.88      0.86        25\n",
      "        TSI       0.77      0.77      0.77        22\n",
      "        YRI       1.00      0.96      0.98        25\n",
      "\n",
      "avg / total       0.89      0.89      0.89       123\n",
      "\n",
      "Performing cross validation for label :  sequencing_center\n",
      "Train data shape (246, 5949) label shape (246,) test shape (123, 5949)\n",
      "             precision    recall  f1-score   support\n",
      "\n",
      "          1       0.97      1.00      0.98        32\n",
      "          2       1.00      1.00      1.00        30\n",
      "          3       1.00      1.00      1.00        12\n",
      "          4       1.00      0.95      0.97        20\n",
      "          5       1.00      1.00      1.00        11\n",
      "          6       1.00      1.00      1.00         9\n",
      "          7       1.00      1.00      1.00         9\n",
      "\n",
      "avg / total       0.99      0.99      0.99       123\n",
      "\n",
      "Train data shape (246, 5867) label shape (246,) test shape (123, 5867)\n",
      "             precision    recall  f1-score   support\n",
      "\n",
      "          1       0.94      1.00      0.97        32\n",
      "          2       0.89      1.00      0.94        16\n",
      "          3       1.00      0.86      0.93        29\n",
      "          4       1.00      1.00      1.00        17\n",
      "          5       0.92      1.00      0.96        12\n",
      "          6       0.88      1.00      0.93         7\n",
      "          7       1.00      0.80      0.89        10\n",
      "\n",
      "avg / total       0.96      0.95      0.95       123\n",
      "\n",
      "Train data shape (246, 5808) label shape (246,) test shape (123, 5808)\n",
      "             precision    recall  f1-score   support\n",
      "\n",
      "          1       0.93      1.00      0.96        26\n",
      "          2       1.00      1.00      1.00        29\n",
      "          3       1.00      1.00      1.00        14\n",
      "          4       1.00      1.00      1.00        15\n",
      "          5       1.00      1.00      1.00         9\n",
      "          6       1.00      0.94      0.97        18\n",
      "          7       1.00      0.92      0.96        12\n",
      "\n",
      "avg / total       0.98      0.98      0.98       123\n",
      "\n",
      "Performing cross validation for label :  combined\n",
      "Train data shape (246, 24542) label shape (246,) test shape (123, 24542)\n"
     ]
    },
    {
     "name": "stderr",
     "output_type": "stream",
     "text": [
      "/anaconda3/lib/python3.6/site-packages/sklearn/metrics/classification.py:1135: UndefinedMetricWarning: Precision and F-score are ill-defined and being set to 0.0 in labels with no predicted samples.\n",
      "  'precision', 'predicted', average, warn_for)\n",
      "/anaconda3/lib/python3.6/site-packages/sklearn/metrics/classification.py:1137: UndefinedMetricWarning: Recall and F-score are ill-defined and being set to 0.0 in labels with no true samples.\n",
      "  'recall', 'true', average, warn_for)\n"
     ]
    },
    {
     "name": "stdout",
     "output_type": "stream",
     "text": [
      "             precision    recall  f1-score   support\n",
      "\n",
      "       CEU1       0.71      1.00      0.83         5\n",
      "       CEU2       0.25      0.67      0.36         3\n",
      "       CEU3       0.50      0.50      0.50         2\n",
      "       CEU4       0.67      1.00      0.80         2\n",
      "       CEU5       0.00      0.00      0.00         1\n",
      "       CEU6       0.00      0.00      0.00         2\n",
      "       CEU7       0.14      1.00      0.25         1\n",
      "       FIN1       1.00      0.60      0.75        10\n",
      "       FIN2       0.33      0.83      0.48         6\n",
      "       FIN3       1.00      0.67      0.80         3\n",
      "       FIN4       0.44      0.80      0.57         5\n",
      "       FIN5       0.17      0.50      0.25         2\n",
      "       FIN6       0.00      0.00      0.00         0\n",
      "       FIN7       0.00      0.00      0.00         2\n",
      "       GBR1       0.29      1.00      0.44         2\n",
      "       GBR2       0.33      0.11      0.17         9\n",
      "       GBR3       0.33      0.33      0.33         3\n",
      "       GBR4       0.00      0.00      0.00         9\n",
      "       GBR5       0.00      0.00      0.00         4\n",
      "       GBR6       0.33      0.33      0.33         3\n",
      "       GBR7       0.00      0.00      0.00         1\n",
      "       TSI1       0.80      0.44      0.57         9\n",
      "       TSI2       0.00      0.00      0.00         9\n",
      "       TSI3       0.00      0.00      0.00         2\n",
      "       TSI4       0.29      0.50      0.36         4\n",
      "       TSI5       0.50      0.50      0.50         2\n",
      "       TSI6       0.00      0.00      0.00         1\n",
      "       TSI7       0.00      0.00      0.00         2\n",
      "       YRI1       0.86      1.00      0.92         6\n",
      "       YRI2       1.00      1.00      1.00         3\n",
      "       YRI3       1.00      1.00      1.00         2\n",
      "       YRI5       1.00      0.50      0.67         2\n",
      "       YRI6       0.75      1.00      0.86         3\n",
      "       YRI7       0.67      0.67      0.67         3\n",
      "\n",
      "avg / total       0.45      0.47      0.43       123\n",
      "\n",
      "Train data shape (246, 24515) label shape (246,) test shape (123, 24515)\n"
     ]
    },
    {
     "name": "stderr",
     "output_type": "stream",
     "text": [
      "/anaconda3/lib/python3.6/site-packages/sklearn/metrics/classification.py:1135: UndefinedMetricWarning: Precision and F-score are ill-defined and being set to 0.0 in labels with no predicted samples.\n",
      "  'precision', 'predicted', average, warn_for)\n",
      "/anaconda3/lib/python3.6/site-packages/sklearn/metrics/classification.py:1137: UndefinedMetricWarning: Recall and F-score are ill-defined and being set to 0.0 in labels with no true samples.\n",
      "  'recall', 'true', average, warn_for)\n"
     ]
    },
    {
     "name": "stdout",
     "output_type": "stream",
     "text": [
      "             precision    recall  f1-score   support\n",
      "\n",
      "       CEU1       0.86      1.00      0.92         6\n",
      "       CEU2       0.40      1.00      0.57         2\n",
      "       CEU3       0.50      0.20      0.29         5\n",
      "       CEU4       0.33      0.25      0.29         4\n",
      "       CEU5       0.00      0.00      0.00         1\n",
      "       CEU6       0.00      0.00      0.00         2\n",
      "       CEU7       0.50      0.75      0.60         4\n",
      "       FIN1       0.64      1.00      0.78         7\n",
      "       FIN2       1.00      0.80      0.89         5\n",
      "       FIN3       0.20      0.75      0.32         4\n",
      "       FIN4       1.00      0.12      0.22         8\n",
      "       FIN5       0.50      0.67      0.57         3\n",
      "       FIN6       0.00      0.00      0.00         1\n",
      "       FIN7       0.00      0.00      0.00         2\n",
      "       GBR1       1.00      0.17      0.29         6\n",
      "       GBR2       0.25      1.00      0.40         2\n",
      "       GBR3       0.00      0.00      0.00         6\n",
      "       GBR4       0.00      0.00      0.00         0\n",
      "       GBR5       0.33      0.33      0.33         3\n",
      "       GBR6       0.25      1.00      0.40         1\n",
      "       GBR7       0.00      0.00      0.00         3\n",
      "       TSI1       0.38      0.50      0.43         6\n",
      "       TSI2       1.00      0.33      0.50         3\n",
      "       TSI3       0.00      0.00      0.00         7\n",
      "       TSI4       0.10      0.50      0.17         2\n",
      "       TSI5       0.33      0.50      0.40         2\n",
      "       TSI6       0.00      0.00      0.00         1\n",
      "       YRI1       1.00      0.86      0.92         7\n",
      "       YRI2       0.75      0.75      0.75         4\n",
      "       YRI3       0.50      0.29      0.36         7\n",
      "       YRI4       0.00      0.00      0.00         3\n",
      "       YRI5       1.00      0.67      0.80         3\n",
      "       YRI6       0.33      0.50      0.40         2\n",
      "       YRI7       0.25      1.00      0.40         1\n",
      "\n",
      "avg / total       0.51      0.46      0.41       123\n",
      "\n",
      "Train data shape (246, 24367) label shape (246,) test shape (123, 24367)\n",
      "             precision    recall  f1-score   support\n",
      "\n",
      "       CEU1       1.00      0.83      0.91         6\n",
      "       CEU2       1.00      0.18      0.31        11\n",
      "       CEU3       1.00      0.67      0.80         3\n",
      "       CEU4       1.00      0.25      0.40         4\n",
      "       CEU5       0.00      0.00      0.00         1\n",
      "       CEU6       1.00      1.00      1.00         3\n",
      "       CEU7       0.50      0.25      0.33         4\n",
      "       FIN1       0.67      0.67      0.67         3\n",
      "       FIN2       0.38      0.60      0.46         5\n",
      "       FIN3       0.71      1.00      0.83         5\n",
      "       FIN4       0.11      1.00      0.20         1\n",
      "       FIN5       0.33      0.50      0.40         2\n",
      "       FIN6       0.00      0.00      0.00         2\n",
      "       FIN7       0.00      0.00      0.00         1\n",
      "       GBR1       0.50      0.17      0.25         6\n",
      "       GBR2       0.33      0.40      0.36         5\n",
      "       GBR3       0.00      0.00      0.00         2\n",
      "       GBR4       0.40      1.00      0.57         2\n",
      "       GBR5       0.25      1.00      0.40         1\n",
      "       GBR6       0.67      0.67      0.67         6\n",
      "       GBR7       0.67      0.67      0.67         3\n",
      "       TSI1       0.33      0.80      0.47         5\n",
      "       TSI2       0.10      0.50      0.17         2\n",
      "       TSI3       0.00      0.00      0.00         1\n",
      "       TSI4       0.50      0.17      0.25         6\n",
      "       TSI5       0.00      0.00      0.00         3\n",
      "       TSI6       0.00      0.00      0.00         3\n",
      "       TSI7       0.00      0.00      0.00         2\n",
      "       YRI1       1.00      1.00      1.00         6\n",
      "       YRI2       0.67      0.33      0.44         6\n",
      "       YRI3       0.75      1.00      0.86         3\n",
      "       YRI4       0.00      0.00      0.00         2\n",
      "       YRI5       1.00      0.50      0.67         2\n",
      "       YRI6       0.67      1.00      0.80         4\n",
      "       YRI7       0.50      0.50      0.50         2\n",
      "\n",
      "avg / total       0.58      0.50      0.48       123\n",
      "\n"
     ]
    },
    {
     "name": "stderr",
     "output_type": "stream",
     "text": [
      "/anaconda3/lib/python3.6/site-packages/sklearn/metrics/classification.py:1135: UndefinedMetricWarning: Precision and F-score are ill-defined and being set to 0.0 in labels with no predicted samples.\n",
      "  'precision', 'predicted', average, warn_for)\n"
     ]
    }
   ],
   "source": [
    "#Training mode. Load the training data, perform cross validation \n",
    "load_data(r\"/Users/shilpageorge/Desktop/Fall-17/CB/train\",r\"/Users/shilpageorge/Desktop/Fall-17/CB/p1_train_pop_lab.csv\")\n",
    "prnt_cross_val_results()"
   ]
  },
  {
   "cell_type": "code",
   "execution_count": 17,
   "metadata": {
    "scrolled": true
   },
   "outputs": [
    {
     "data": {
      "image/png": "[encoded data removed]",
      "text/plain": [
       "<matplotlib.figure.Figure at 0x1a2e048860>"
      ]
     },
     "metadata": {},
     "output_type": "display_data"
    },
    {
     "data": {
      "image/png": "[encoded data removed]",
      "text/plain": [
       "<matplotlib.figure.Figure at 0x1a17778048>"
      ]
     },
     "metadata": {},
     "output_type": "display_data"
    },
    {
     "data": {
      "image/png": "[encoded data removed]",
      "text/plain": [
       "<matplotlib.figure.Figure at 0x1a42b330b8>"
      ]
     },
     "metadata": {},
     "output_type": "display_data"
    }
   ],
   "source": [
    "#Optionally create the model dump fo r this training \n",
    "create_model_dump()"
   ]
  },
  {
   "cell_type": "code",
   "execution_count": null,
   "metadata": {
    "collapsed": true
   },
   "outputs": [],
   "source": [
    "  "
   ]
  }
 ],
 "metadata": {
  "kernelspec": {
   "display_name": "Python 3",
   "language": "python",
   "name": "python3"
  },
  "language_info": {
   "codemirror_mode": {
    "name": "ipython",
    "version": 3
   },
   "file_extension": ".py",
   "mimetype": "text/x-python",
   "name": "python",
   "nbconvert_exporter": "python",
   "pygments_lexer": "ipython3",
   "version": "3.6.3"
  },
  "varInspector": {
   "cols": {
    "lenName": 16,
    "lenType": 16,
    "lenVar": 40
   },
   "kernels_config": {
    "python": {
     "delete_cmd_postfix": "",
     "delete_cmd_prefix": "del ",
     "library": "var_list.py",
     "varRefreshCmd": "print(var_dic_list())"
    },
    "r": {
     "delete_cmd_postfix": ") ",
     "delete_cmd_prefix": "rm(",
     "library": "var_list.r",
     "varRefreshCmd": "cat(var_dic_list()) "
    }
   },
   "types_to_exclude": [
    "module",
    "function",
    "builtin_function_or_method",
    "instance",
    "_Feature"
   ],
   "window_display": false
  }
 },
 "nbformat": 4,
 "nbformat_minor": 1
}
